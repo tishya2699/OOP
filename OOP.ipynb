{
  "nbformat": 4,
  "nbformat_minor": 0,
  "metadata": {
    "colab": {
      "provenance": []
    },
    "kernelspec": {
      "name": "python3",
      "display_name": "Python 3"
    },
    "language_info": {
      "name": "python"
    }
  },
  "cells": [
    {
      "cell_type": "markdown",
      "source": [
        "#PYTHON OOP\n",
        "1. What is Object-Oriented Programming (OOP)\n",
        " - Object-Oriented Programming (OOP) is a programming paradigm based on the concept of \"objects,\" which can contain data and methods. OOP organizes software design around objects, rather than functions or logic. It is widely used in modern programming because it provides a clear modular structure that makes programs easier to manage, modify, and scale.\n",
        "2. What is a class in OOP\n",
        " - In Object-Oriented Programming (OOP), a class is a blueprint or template for creating objects. It defines the structure and behavior of the objects, specifying what attributes (properties) and methods\n",
        "3. What is an object in OOP\n",
        " - Objects are central to OOP because they allow developers to create complex applications with interacting components that are easy to understand, extend, and maintain.\n",
        "4. What is the difference between abstraction and encapsulation\n",
        " - Abstraction is about hiding the complexity and showing only relevant details.\n",
        " - Encapsulation is about bundling the data and methods together and restricting access to protect the data.  \n",
        "5. What are dunder methods in Python\n",
        " - Dunder methods (short for \"double underscore methods\") in Python are special methods with names that start and end with double underscores (e.g., __init__, __str__, __add__). They are also called magic methods or special methods and are used to define the behavior of objects for built-in operations.\n",
        "6. Explain the concept of inheritance in OOP\n",
        " - Inheritance is a fundamental concept in Object-Oriented Programming (OOP) that allows a class (called the child class or subclass) to derive or inherit properties and behaviors (attributes and methods) from another class (called the parent class or superclass). It promotes code reuse and enables hierarchical class relationships.\n",
        "7. What is polymorphism in OOP\n",
        " - Polymorphism is a fundamental concept in Object-Oriented Programming (OOP) that allows objects of different classes to be treated as objects of a common parent class. The word \"polymorphism\" means \"many forms,\" and in programming, it refers to the ability of a single interface or method to operate on different types of objects.\n",
        "8. How is encapsulation achieved in Python\n",
        " - In Python, encapsulation is achieved using access modifiers and getter/setter methods.\n",
        "9. What is a constructor in Python\n",
        " - A constructor in Python is a special method that is automatically called when an object of a class is created. It is used to initialize the object's attributes and perform any setup or preparation needed for the object.\n",
        "10. What are class and static methods in Python\n",
        " - A class method is a method that operates on the class itself rather than on an instance of the class. It can access and modify class-level attributes and is defined using the @classmethod decorator.\n",
        "  - A static method is a method that does not depend on the class or any instance. It is defined using the @staticmethod decorator and does not take a self or cls parameter.\n",
        "11. What is method overloading in Python\n",
        " - Method overloading in Python refers to the ability to define multiple methods with the same name but with different arguments (number or types of arguments). In some other languages like Java, method overloading is natively supported. However, Python does not support traditional method overloading\n",
        "12. What is method overriding in OOP\n",
        " - Method overriding in Object-Oriented Programming (OOP) is a feature that allows a subclass to provide a specific implementation of a method that is already defined in its parent (superclass). In other words, when a method in a subclass has the same name, same parameters, and same return type as a method in the parent class, the subclass method overrides the parent class method.\n",
        "13. What is a property decorator in Python\n",
        " - The property decorator provides a clean and Pythonic way to manage attributes, encapsulate logic, and keep code more maintainable and intuitive.\n",
        "14. Why is polymorphism important in OOP\n",
        " - Polymorphism is crucial in OOP because it promotes code reusability, flexibility, scalability, and maintainability.\n",
        " - It allows objects of different types to be treated as instances of the same class, providing a common interface while supporting specific behaviors in different classes.\n",
        " - It simplifies code by removing the need for multiple conditionals, making it more modular and easier to maintain and extend.     \n",
        "15. What is an abstract class in Python\n",
        " - An abstract class in Python is a class that cannot be instantiated directly. It serves as a blueprint for other classes, allowing you to define methods that must be implemented by subclasses. Abstract classes are often used when you have a common base class that defines some shared functionality but also requires subclasses to provide specific implementations for certain methods.\n",
        "16. What are the advantages of OOP\n",
        " - Modularity: Code is divided into independent objects, making development and maintenance easier.\n",
        "Reusability: Classes and objects can be reused in different parts of the application.\n",
        "Extensibility: Easily extend systems without modifying the core code, supporting growth.\n",
        "Maintainability: The structure makes it easier to manage and update systems.\n",
        "Encapsulation: Protects object data and ensures proper handling via methods.\n",
        "Polymorphism: Enables flexible and reusable code through different implementations.\n",
        "Abstraction: Hides complex details and provides a clear interface.\n",
        "Improved Collaboration: Promotes teamwork and division of tasks.\n",
        "Improved Testing: Easier to test and debug individual components.\n",
        "Real-world Mapping: Models real-world entities in a natural and intuitive way.\n",
        "17. What is the difference between a class variable and an instance variable\n",
        " - Class variables are shared across all instances of the class and are typically used for data that should be common to all instances.\n",
        " - Instance variables are specific to each object and store data unique to that object.\n",
        "18. What is multiple inheritance in Python\n",
        " - Multiple inheritance in Python refers to the ability of a class to inherit from more than one base class. This allows a class to inherit attributes and methods from multiple parent classes, enabling more flexible and reusable code.\n",
        "19. Explain the purpose of ‘’__str__’ and ‘__repr__’ ‘ methods in Python\n",
        " - __str__ is for creating a human-readable string representation of an object.\n",
        " - __repr__ is for creating a developer-friendly string representation that ideally can be used to recreate the object.  \n",
        "20. What is the significance of the ‘super()’ function in Python\n",
        " - The super() function in Python is used to call methods from a parent class in a child class, particularly in the context of inheritance. It allows you to invoke the parent class's methods or constructors without explicitly naming the parent class.\n",
        "21. What is the significance of the __del__ method in Python\n",
        " - The __del__ method in Python is a destructor method that is called when an object is about to be destroyed or garbage collected. It allows you to define cleanup behavior for an object before it is removed from memory.\n",
        "22. What is the difference between @staticmethod and @classmethod in Python\n",
        " - Both @staticmethod and @classmethod are useful in different scenarios, with @staticmethod being appropriate for utility functions and @classmethod being useful for methods that need to operate on the class itself.   \n",
        "23. How does polymorphism work in Python with inheritance\n",
        " - Flexibility and Reusability: You can write code that works with objects of different types (but same interface) without knowing their exact type. This makes the code more flexible and reusable.\n",
        "Maintainability: Polymorphism allows for easy addition of new types of objects without modifying existing code. As long as the new class implements the common interface (method signature), it will work seamlessly.\n",
        "Cleaner Code: You can design more modular and clean code, since polymorphism allows for a consistent interface to interact with different object types.\n",
        "24. What is method chaining in Python OOP\n",
        " - Method chaining in Python (and in Object-Oriented Programming in general) refers to the practice of calling multiple methods on the same object in a single statement, where each method call returns the object itself (or a modified version of it)\n",
        "25. What is the purpose of the __call__ method in Python\n",
        " - The __call__ method in Python is a special (or \"dunder\") method that allows an instance of a class to be called as if it were a function. When you define the __call__ method in a class, you enable instances of that class to behave like functions, meaning you can invoke the instance directly with parentheses (i.e., instance()), passing arguments to the __call__ method.\n",
        "\n",
        "\n",
        " PRACTICAL\n",
        "\n",
        "1. Create a parent class Animal with a method speak() that prints a generic message. Create a child class Dog that overrides the speak() method to print \"Bark!\""
      ],
      "metadata": {
        "id": "J1LI02BpNcFh"
      }
    },
    {
      "cell_type": "code",
      "source": [
        "# Parent class\n",
        "class Animal:\n",
        "    def speak(self):\n",
        "        print(\"This animal makes a sound.\")\n",
        "\n",
        "# Child class\n",
        "class Dog(Animal):\n",
        "    def speak(self):\n",
        "        print(\"Bark!\")\n",
        "\n",
        "# Creating an instance of Animal and Dog\n",
        "animal = Animal()\n",
        "dog = Dog()\n",
        "\n",
        "# Calling the speak() method on both objects\n",
        "animal.speak()  # Output: This animal makes a sound.\n",
        "dog.speak()     # Output: Bark!\n"
      ],
      "metadata": {
        "colab": {
          "base_uri": "https://localhost:8080/"
        },
        "id": "9DFWsBSelqbq",
        "outputId": "64e9363e-916c-41b4-ddfa-ce66644e27b9"
      },
      "execution_count": null,
      "outputs": [
        {
          "output_type": "stream",
          "name": "stdout",
          "text": [
            "This animal makes a sound.\n",
            "Bark!\n"
          ]
        }
      ]
    },
    {
      "cell_type": "markdown",
      "source": [
        "2.  Write a program to create an abstract class Shape with a method area(). Derive classes Circle and Rectangle from it and implement the area() method in both.\n"
      ],
      "metadata": {
        "id": "ML8LkggKlfUE"
      }
    },
    {
      "cell_type": "code",
      "source": [
        "from abc import ABC, abstractmethod\n",
        "import math\n",
        "\n",
        "# Abstract class Shape\n",
        "class Shape(ABC):\n",
        "    @abstractmethod\n",
        "    def area(self):\n",
        "        pass\n",
        "\n",
        "# Circle class derived from Shape\n",
        "class Circle(Shape):\n",
        "    def __init__(self, radius):\n",
        "        self.radius = radius\n",
        "\n",
        "    def area(self):\n",
        "        return math.pi * self.radius ** 2\n",
        "\n",
        "# Rectangle class derived from Shape\n",
        "class Rectangle(Shape):\n",
        "    def __init__(self, width, height):\n",
        "        self.width = width\n",
        "        self.height = height\n",
        "\n",
        "    def area(self):\n",
        "        return self.width * self.height\n",
        "\n",
        "# Example usage\n",
        "if __name__ == \"__main__\":\n",
        "    # Creating a Circle object\n",
        "    circle = Circle(5)\n",
        "    print(f\"Area of Circle: {circle.area():.2f}\")\n",
        "\n",
        "    # Creating a Rectangle object\n",
        "    rectangle =\n"
      ],
      "metadata": {
        "colab": {
          "base_uri": "https://localhost:8080/",
          "height": 106
        },
        "id": "axrXcwIFnJhr",
        "outputId": "cd76b2a3-f792-46aa-87cc-143bfdf039d2"
      },
      "execution_count": 1,
      "outputs": [
        {
          "output_type": "error",
          "ename": "SyntaxError",
          "evalue": "invalid syntax (<ipython-input-1-8093a8e0c33f>, line 34)",
          "traceback": [
            "\u001b[0;36m  File \u001b[0;32m\"<ipython-input-1-8093a8e0c33f>\"\u001b[0;36m, line \u001b[0;32m34\u001b[0m\n\u001b[0;31m    rectangle =\u001b[0m\n\u001b[0m               ^\u001b[0m\n\u001b[0;31mSyntaxError\u001b[0m\u001b[0;31m:\u001b[0m invalid syntax\n"
          ]
        }
      ]
    },
    {
      "cell_type": "code",
      "source": [],
      "metadata": {
        "id": "D44OPu5VnK-e"
      },
      "execution_count": null,
      "outputs": []
    },
    {
      "cell_type": "markdown",
      "source": [
        "3.  Implement a multi-level inheritance scenario where a class Vehicle has an attribute type. Derive a class Car and further derive a class ElectricCar that adds a battery attribute.\n"
      ],
      "metadata": {
        "id": "n50UBiAGnP-E"
      }
    },
    {
      "cell_type": "code",
      "source": [
        "# Base class: Vehicle\n",
        "class Vehicle:\n",
        "    def __init__(self, vehicle_type):\n",
        "        self.vehicle_type = vehicle_type\n",
        "\n",
        "    def display_type(self):\n",
        "        print(f\"Vehicle type: {self.vehicle_type}\")\n",
        "\n",
        "# Derived class: Car\n",
        "class Car(Vehicle):\n",
        "    def __init__(self, vehicle_type, brand, model):\n",
        "        super().__init__(vehicle_type)\n",
        "        self.brand = brand\n",
        "        self.model = model\n",
        "\n",
        "    def display_car_info(self):\n",
        "        print(f\"Car brand: {self.brand}, Model: {self.model}\")\n",
        "\n",
        "# Further derived class: ElectricCar\n",
        "class ElectricCar(Car):\n",
        "    def __init__(self, vehicle_type, brand, model, battery_capacity):\n",
        "        super().__init__(vehicle_type, brand, model)\n",
        "        self.battery_capacity = battery_capacity\n",
        "\n",
        "    def display_battery_info(self):\n",
        "        print(f\"Battery capacity: {self.battery_capacity} kWh\")\n",
        "\n",
        "# Example usage\n",
        "if __name__ == \"__main__\":\n",
        "    # Creating an ElectricCar object\n",
        "    tesla = ElectricCar(\"Electric\", \"Tesla\", \"Model S\", 100)\n",
        "\n",
        "    # Display information\n",
        "    tesla.display_type()            # From Vehicle\n",
        "    tesla.display_car_info()        # From Car\n",
        "    tesla.display_battery_info()    # From ElectricCar\n"
      ],
      "metadata": {
        "id": "vMiIL3C3ndoR"
      },
      "execution_count": null,
      "outputs": []
    },
    {
      "cell_type": "markdown",
      "source": [
        "4.  Implement a multi-level inheritance scenario where a class Vehicle has an attribute type. Derive a class Car and further derive a class ElectricCar that adds a battery attribute.\n"
      ],
      "metadata": {
        "id": "etDYdigone1d"
      }
    },
    {
      "cell_type": "code",
      "source": [
        "# Base class: Vehicle\n",
        "class Vehicle:\n",
        "    def __init__(self, vehicle_type):\n",
        "        self.vehicle_type = vehicle_type\n",
        "\n",
        "    def display_type(self):\n",
        "        print(f\"Vehicle Type: {self.vehicle_type}\")\n",
        "\n",
        "# Derived class: Car\n",
        "class Car(Vehicle):\n",
        "    def __init__(self, vehicle_type, brand, model):\n",
        "        super().__init__(vehicle_type)\n",
        "        self.brand = brand\n",
        "        self.model = model\n",
        "\n",
        "    def display_car_info(self):\n",
        "        print(f\"Car Brand: {self.brand}, Model: {self.model}\")\n",
        "\n",
        "# Further derived class: ElectricCar\n",
        "class ElectricCar(Car):\n",
        "    def __init__(self, vehicle_type, brand, model, battery_capacity):\n",
        "        super().__init__(vehicle_type, brand, model)\n",
        "        self.battery_capacity = battery_capacity\n",
        "\n",
        "    def display_battery_info(self):\n",
        "        print(f\"Battery Capacity: {self.battery_capacity} kWh\")\n",
        "\n",
        "# Example usage\n",
        "if __name__ == \"__main__\":\n",
        "    # Create an ElectricCar object\n",
        "    electric_car = ElectricCar(\"Electric\", \"Tesla\", \"Model X\", 100)\n",
        "\n",
        "    # Display information\n",
        "    electric_car.display_type()            # From Vehicle\n",
        "    electric_car.display_car_info()        # From Car\n",
        "    electric_car.display_battery_info()    # From ElectricCar\n"
      ],
      "metadata": {
        "id": "6Mub0L2RnoEE"
      },
      "execution_count": null,
      "outputs": []
    },
    {
      "cell_type": "markdown",
      "source": [
        "5.  Write a program to demonstrate encapsulation by creating a class BankAccount with private attributes balance and methods to deposit, withdraw, and check balance.\n"
      ],
      "metadata": {
        "id": "_JWMCbu_npbi"
      }
    },
    {
      "cell_type": "code",
      "source": [
        "class BankAccount:\n",
        "    def __init__(self, account_holder, initial_balance=0):\n",
        "        self.__balance = initial_balance  # Private attribute\n",
        "        self.account_holder = account_holder\n",
        "\n",
        "    # Method to deposit money\n",
        "    def deposit(self, amount):\n",
        "        if amount > 0:\n",
        "            self.__balance += amount\n",
        "            print(f\"Deposited: {amount}\")\n",
        "        else:\n",
        "            print(\"Deposit amount must be positive.\")\n",
        "\n",
        "    # Method to withdraw money\n",
        "    def withdraw(self, amount):\n",
        "        if 0 < amount <= self.__balance:\n",
        "            self.__balance -= amount\n",
        "            print(f\"Withdrawn: {amount}\")\n",
        "        else:\n",
        "            print(\"Invalid withdrawal amount or insufficient balance.\")\n",
        "\n",
        "\n"
      ],
      "metadata": {
        "id": "OyRB6EREntoQ"
      },
      "execution_count": null,
      "outputs": []
    },
    {
      "cell_type": "markdown",
      "source": [
        "6. Demonstrate runtime polymorphism using a method play() in a base class Instrument. Derive classes Guitar and Piano that implement their own version of play()."
      ],
      "metadata": {
        "id": "460MxQoTnx7M"
      }
    },
    {
      "cell_type": "code",
      "source": [
        "# Base class: Instrument\n",
        "class Instrument:\n",
        "    def play(self):\n",
        "        raise NotImplementedError(\"Subclasses must implement the play method\")\n",
        "\n",
        "# Derived class: Guitar\n",
        "class Guitar(Instrument):\n",
        "    def play(self):\n",
        "        print(\"Playing the guitar: Strumming the strings!\")\n",
        "\n",
        "# Derived class: Piano\n",
        "class Piano(Instrument):\n",
        "    def play(self):\n",
        "        print(\"Playing the piano: Pressing the keys!\")\n",
        "\n",
        "# Example of runtime polymorphism\n",
        "def play_instrument(instrument):\n",
        "    instrument.play()\n",
        "\n",
        "# Example usage\n",
        "if __name__ == \"__main__\":\n",
        "    # Create instances of Guitar and Piano\n",
        "\n"
      ],
      "metadata": {
        "id": "aXZ3Dn3hn8hz"
      },
      "execution_count": null,
      "outputs": []
    },
    {
      "cell_type": "markdown",
      "source": [
        "7. Create a class MathOperations with a class method add_numbers() to add two numbers and a static method subtract_numbers() to subtract two numbers."
      ],
      "metadata": {
        "id": "7jC5wqs5o8zG"
      }
    },
    {
      "cell_type": "code",
      "source": [
        "class MathOperations:\n",
        "    # Class method to add two numbers\n",
        "    @classmethod\n",
        "    def add_numbers(cls, a, b):\n",
        "        return a + b\n",
        "\n",
        "    # Static method to subtract two numbers\n",
        "    @staticmethod\n",
        "    def subtract_numbers(a, b):\n",
        "        return a - b\n",
        "\n",
        "# Example usage\n",
        "if __name__ == \"__main__\":\n",
        "    # Using the class method to add numbers\n",
        "    sum_result = MathOperations.add_numbers(10,\n"
      ],
      "metadata": {
        "id": "pCAFlCdWpBxp"
      },
      "execution_count": null,
      "outputs": []
    },
    {
      "cell_type": "markdown",
      "source": [
        "8.  Implement a class Person with a class method to count the total number of persons created."
      ],
      "metadata": {
        "id": "hUsvCgXYpFuX"
      }
    },
    {
      "cell_type": "code",
      "source": [
        "class Person:\n",
        "    # Class attribute to keep count of Person instances\n",
        "    _count = 0\n",
        "\n",
        "    def __init__(self, name):\n",
        "        self.name = name\n",
        "        # Increment the count whenever a new Person object is created\n",
        "        Person._count += 1\n",
        "\n",
        "    @classmethod\n",
        "    def get_count(cls):\n",
        "        \"\"\"Returns the total number of Person instances created.\"\"\"\n",
        "        return cls._count\n",
        "\n",
        "# Example usage\n",
        "if __name__ == \"__main__\":\n",
        "    # Create some Person objects\n",
        "    person1 = Person(\"Alice\")\n",
        "    person2 = Person(\"Bob\")\n",
        "    person3 = Person(\"Charlie\")\n",
        "\n",
        "    # Get the total number of persons created\n",
        "    print(f\"Total persons\n"
      ],
      "metadata": {
        "id": "9vfxuFt-pN8A"
      },
      "execution_count": null,
      "outputs": []
    },
    {
      "cell_type": "markdown",
      "source": [
        "9.  Write a class Fraction with attributes numerator and denominator. Override the str method to display the fraction as \"numerator/denominator\"."
      ],
      "metadata": {
        "id": "xLuueHH7pO62"
      }
    },
    {
      "cell_type": "code",
      "source": [
        "class Fraction:\n",
        "    def __init__(self, numerator, denominator):\n",
        "        if denominator == 0:\n",
        "            raise ValueError(\"Denominator cannot be zero.\")\n",
        "        self.numerator = numerator\n",
        "        self.denominator = denominator\n",
        "\n",
        "    def __str__(self):\n",
        "        return f\"{self.numerator}/{self.denominator}\"\n",
        "\n",
        "# Example usage\n",
        "if __name__ == \"__main__\":\n",
        "    # Create a Fraction object\n",
        "    fraction = Fraction(3, 4)\n",
        "    print(f\"Fraction: {fraction}\")  # D\n"
      ],
      "metadata": {
        "id": "0NXeS5sWpS8M"
      },
      "execution_count": null,
      "outputs": []
    },
    {
      "cell_type": "markdown",
      "source": [
        "10. Demonstrate operator overloading by creating a class Vector and overriding the add method to add two vectors."
      ],
      "metadata": {
        "id": "kjIOE_ojpZUk"
      }
    },
    {
      "cell_type": "code",
      "source": [
        "class Vector:\n",
        "    def __init__(self, x, y):\n",
        "        self.x = x\n",
        "        self.y = y\n",
        "\n",
        "    # Overload the '+' operator to add two vectors\n",
        "    def __add__(self, other):\n",
        "        if not isinstance(other, Vector):\n",
        "            raise TypeError(\"Operands must be instances of Vector\")\n",
        "        return Vector(self.x + other.x, self.y + other.y)\n",
        "\n",
        "    def __str__(self):\n",
        "        return f\"({self.x}, {self.y})\"\n",
        "\n",
        "# Example usage\n",
        "if __name__ == \"__main__\":\n",
        "    # Create two Vector objects\n",
        "    vector1 = Vector(2, 3)\n",
        "    vector2 = Vector(4, 5)\n",
        "\n",
        "    # Add the two vectors using the overloaded '+' operator\n",
        "    result = vector1 + vector2\n",
        "\n",
        "    # Display the result\n",
        "    print(f\"Vector 1: {vector1}\")\n",
        "    print(f\"Vector 2: {vector2}\")\n",
        "    print(f\"Sum of Vectors: {result}\")\n"
      ],
      "metadata": {
        "id": "kKJv6iwApuUJ"
      },
      "execution_count": null,
      "outputs": []
    },
    {
      "cell_type": "markdown",
      "source": [
        "11. Create a class Person with attributes name and age. Add a method greet() that prints \"Hello, my name is {name} and I am {age} years old.\""
      ],
      "metadata": {
        "id": "xAYOHUjApxJW"
      }
    },
    {
      "cell_type": "code",
      "source": [
        "class Person:\n",
        "    def __init__(self, name, age):\n",
        "        self.name = name\n",
        "        self.age = age\n",
        "\n",
        "    def greet(self):\n",
        "        print(f\"Hello, my name is {self.name} and I am {self.age} years old.\")\n",
        "\n",
        "# Example usage\n",
        "if __name__ == \"__main__\":\n",
        "    # Create a Person object\n",
        "    person1 = Person(\"Alice\", 30)\n",
        "\n",
        "    # Call the greet method\n",
        "    person1.greet()\n",
        "\n",
        "    # Another Person object\n",
        "    person2 = Person(\"Bob\", 25)\n",
        "    person2.greet()\n"
      ],
      "metadata": {
        "id": "Tu2-MvaGp1zM"
      },
      "execution_count": null,
      "outputs": []
    },
    {
      "cell_type": "markdown",
      "source": [
        "12.  Implement a class Student with attributes name and grades. Create a method average_grade() to compute the average of the grades."
      ],
      "metadata": {
        "id": "iKc9sb7cp3eV"
      }
    },
    {
      "cell_type": "code",
      "source": [
        "class Student:\n",
        "    def __init__(self, name, grades):\n",
        "        self.name = name\n",
        "        self.grades = grades\n",
        "\n",
        "    def average_grade(self):\n",
        "        if len(self.grades) == 0:\n",
        "            return 0\n",
        "        return sum(self.grades) / len(self.grades)\n",
        "\n",
        "# Example usage\n",
        "if __name__ == \"__main__\":\n",
        "    # Create a Student object\n",
        "    student1 = Student(\"Alice\", [90, 85, 88, 92])\n",
        "\n",
        "    # Call the average_grade method\n",
        "    print(f\"{student1.name}'s average grade: {student1.average_grade():.2f}\")\n",
        "\n",
        "    # Another Student object\n",
        "    student2 = Student(\"Bob\", [78, 82, 75, 80, 85])\n",
        "    print(f\"{student2.name}'s average grade: {student2.average_grade():.2f}\")\n"
      ],
      "metadata": {
        "id": "uO3-Qhpbp9na"
      },
      "execution_count": null,
      "outputs": []
    },
    {
      "cell_type": "markdown",
      "source": [
        "13. Create a class Rectangle with methods set_dimensions() to set the dimensions and area() to calculate the area."
      ],
      "metadata": {
        "id": "KpQZVaKIqDio"
      }
    },
    {
      "cell_type": "code",
      "source": [
        "class Rectangle:\n",
        "    def __init__(self):\n",
        "        self.width = 0\n",
        "        self.height = 0\n",
        "\n",
        "    def set_dimensions(self, width, height):\n",
        "        \"\"\"Set the dimensions of the rectangle.\"\"\"\n",
        "        self.width = width\n",
        "        self.height = height\n",
        "\n",
        "    def area(self):\n",
        "        \"\"\"Calculate and return the area of the rectangle.\"\"\"\n",
        "        return self.width * self.height\n",
        "\n",
        "# Example usage\n",
        "if __name__ == \"__main__\":\n",
        "    # Create a Rectangle object\n",
        "    rectangle = Rectangle()\n",
        "\n",
        "    # Set dimensions of the rectangle\n",
        "    rectangle.set_dimensions(5, 3)\n",
        "\n",
        "    # Calculate and display the area\n",
        "    print(f\"Area of the rectangle: {rectangle.area()} square units\")\n"
      ],
      "metadata": {
        "id": "NpBL_14mqKNA"
      },
      "execution_count": null,
      "outputs": []
    },
    {
      "cell_type": "markdown",
      "source": [
        "14.  Create a class Employee with a method calculate_salary() that computes the salary based on hours worked and hourly rate. Create a derived class Manager that adds a bonus to the salary."
      ],
      "metadata": {
        "id": "-U1OyicwqLDO"
      }
    },
    {
      "cell_type": "code",
      "source": [
        "class Employee:\n",
        "    def __init__(self, name, hours_worked, hourly_rate):\n",
        "        self.name = name\n",
        "        self.hours_worked = hours_worked\n",
        "        self.hourly_rate = hourly_rate\n",
        "\n",
        "    def calculate_salary(self):\n",
        "        \"\"\"Calculates the salary based on hours worked and hourly rate.\"\"\"\n",
        "        return self.hours_worked * self.hourly_rate\n",
        "\n",
        "# Derived class Manager\n",
        "class Manager(Employee):\n",
        "    def __init__(self, name, hours_worked, hourly_rate, bonus):\n",
        "        # Initialize the base class\n",
        "        super().__init__(name, hours_worked, hourly_rate)\n",
        "        self.bonus = bonus\n",
        "\n",
        "    def calculate_salary(self):\n",
        "        \"\"\"Calculates the salary including the bonus for a Manager.\"\"\"\n",
        "        base_salary = super().calculate_salary()\n",
        "        return base_salary + self.bonus\n",
        "\n",
        "# Example usage\n",
        "if __name__ == \"__main__\":\n",
        "    # Create an Employee object\n",
        "    employee = Employee(\"Alice\", 160, 20)\n",
        "    print(f\"{employee.name}'s salary: ${employee.calculate_salary()}\")\n",
        "\n",
        "    # Create a Manager object\n",
        "    manager = Manager(\"Bob\", 160, 30, 50\n",
        "\n",
        ""
      ],
      "metadata": {
        "id": "6XI2ln2FqQzH"
      },
      "execution_count": null,
      "outputs": []
    },
    {
      "cell_type": "markdown",
      "source": [
        "15. Create a class Product with attributes name, price, and quantity. Implement a method total_price() that calculates the total price of the product."
      ],
      "metadata": {
        "id": "ROmDHmgsqRqx"
      }
    },
    {
      "cell_type": "code",
      "source": [
        "class Product:\n",
        "    def __init__(self, name, price, quantity):\n",
        "        self.name = name\n",
        "        self.price = price\n",
        "        self.quantity = quantity\n",
        "\n",
        "    def total_price(self):\n",
        "        \"\"\"Calculates the total price of the product based on price and quantity.\"\"\"\n",
        "        return self.price * self.quantity\n",
        "\n",
        "# Example usage\n",
        "if __name__ == \"__main__\":\n",
        "    # Create a Product object\n",
        "    product1 = Product(\"Laptop\", 1000, 3)\n",
        "\n",
        "    # Calculate and display the total price\n",
        "    print(f\"Total price of {product1.name}: ${product1.total_price()}\")\n",
        "\n",
        "    # Another Product object\n",
        "    product\n"
      ],
      "metadata": {
        "id": "wtF1Bw7cqX8X"
      },
      "execution_count": null,
      "outputs": []
    },
    {
      "cell_type": "markdown",
      "source": [
        "16.  Create a class Animal with an abstract method sound(). Create two derived classes Cow and Sheep that implement the sound() method."
      ],
      "metadata": {
        "id": "s43vGYwbqY2j"
      }
    },
    {
      "cell_type": "code",
      "source": [
        "from abc import ABC, abstractmethod\n",
        "\n",
        "# Abstract base class Animal\n",
        "class Animal(ABC):\n",
        "    @abstractmethod\n",
        "    def sound(self):\n",
        "        \"\"\"Abstract method that should be implemented by subclasses.\"\"\"\n",
        "        pass\n",
        "\n",
        "# Derived class Cow\n",
        "class Cow(Animal):\n",
        "    def sound(self):\n",
        "        return \"Moo\"\n",
        "\n",
        "# Derived class Sheep\n",
        "class Sheep(Animal):\n",
        "    def sound(self):\n",
        "        return \"Baa\"\n",
        "\n",
        "# Example usage\n",
        "if __name__ == \"__main__\":\n",
        "    # Create objects of Cow and Sheep\n",
        "    cow = Cow()\n",
        "    sheep = Sheep()\n",
        "\n",
        "    # Call the sound method on both\n",
        "    print(f\"Cow makes the sound: {cow.sound()}\")\n",
        "    print(f\"Sheep makes the sound: {sheep.sound()}\")\n"
      ],
      "metadata": {
        "id": "ef1xruENqeQZ"
      },
      "execution_count": null,
      "outputs": []
    },
    {
      "cell_type": "markdown",
      "source": [
        "17. Create a class Book with attributes title, author, and year_published. Add a method get_book_info() that returns a formatted string with the book's details."
      ],
      "metadata": {
        "id": "ZSdhHXL7qiWM"
      }
    },
    {
      "cell_type": "code",
      "source": [
        "class Book:\n",
        "    def __init__(self, title, author, year_published):\n",
        "        self.title = title\n",
        "        self.author = author\n",
        "        self.year_published = year_published\n",
        "\n",
        "    def get_book_info(self):\n",
        "        \"\"\"Returns a formatted string with the book's details.\"\"\"\n",
        "        return f\"Title: {self.title}\\nAuthor: {self.author}\\nYear Published: {self.year_published}\"\n",
        "\n",
        "# Example usage\n",
        "if __name__ == \"__main__\":\n",
        "    # Create a Book object\n",
        "    book1 = Book(\"To Kill a Mockingbird\", \"Harper Lee\", 1960)\n",
        "\n",
        "    # Get and display the book's information\n",
        "    print(book1.get_book_info())\n",
        "\n",
        "    # Another Book object\n"
      ],
      "metadata": {
        "id": "PPXZFRSbqoLK"
      },
      "execution_count": null,
      "outputs": []
    },
    {
      "cell_type": "markdown",
      "source": [
        "18. Create a class House with attributes address and price. Create a derived class Mansion that adds an attribute number_of_rooms."
      ],
      "metadata": {
        "id": "FbeNA6bIqpNX"
      }
    },
    {
      "cell_type": "code",
      "source": [
        "# Base class House\n",
        "class House:\n",
        "    def __init__(self, address, price):\n",
        "        self.address = address\n",
        "        self.price = price\n",
        "\n",
        "    def get_house_info(self):\n",
        "        \"\"\"Returns a formatted string with the house's details.\"\"\"\n",
        "        return f\"Address: {self.address}\\nPrice: ${self.price}\"\n",
        "\n",
        "# Derived class Mansion\n",
        "class Mansion(House):\n",
        "    def __init__(self, address, price, number_of_rooms):\n",
        "        # Initialize the base class with address and price\n",
        "        super().__init__(address, price)\n",
        "        self.number_of_rooms = number_of_rooms\n",
        "\n",
        "    def get_mansion_info(self):\n",
        "        \"\"\"Returns a formatted string with the mansion's details including number of rooms.\"\"\"\n",
        "        return f\"{self.get_house_info()}\\nNumber of Rooms: {self.number_of_rooms}\"\n",
        "\n",
        "# Example usage\n",
        "if __name__ == \"__main__\":\n",
        "    # Create a House object\n",
        "    house = House(\n"
      ],
      "metadata": {
        "id": "fNRed3ySq1kH"
      },
      "execution_count": null,
      "outputs": []
    }
  ]
}